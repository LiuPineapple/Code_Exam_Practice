{
 "cells": [
  {
   "cell_type": "code",
   "execution_count": 2,
   "id": "357b96c6",
   "metadata": {},
   "outputs": [],
   "source": [
    "class Solution:\n",
    "    def findPeakElement(self, nums):\n",
    "        le = len(nums)\n",
    "        if le==0:\n",
    "            return None\n",
    "        left = 0\n",
    "        right = len(nums)-1\n",
    "        while left<=right:\n",
    "            mid = (left+right)//2\n",
    "            l_val = nums[mid-1] if mid-1>0 else float('-inf')\n",
    "            r_val = nums[mid+1] if mid+1<le else float('-inf')\n",
    "            if nums[mid]>l_val and nums[mid]>r_val:\n",
    "                return mid\n",
    "            elif nums[mid]>l_val:\n",
    "                left = mid+1\n",
    "            else:\n",
    "                right = mid-1\n",
    "        return None"
   ]
  },
  {
   "cell_type": "code",
   "execution_count": 3,
   "id": "9a31bc56",
   "metadata": {},
   "outputs": [],
   "source": [
    "s = Solution()"
   ]
  },
  {
   "cell_type": "code",
   "execution_count": 4,
   "id": "769001f7",
   "metadata": {},
   "outputs": [
    {
     "data": {
      "text/plain": [
       "1"
      ]
     },
     "execution_count": 4,
     "metadata": {},
     "output_type": "execute_result"
    }
   ],
   "source": [
    "s.findPeakElement([6,5,4,3,2,3,2])"
   ]
  },
  {
   "cell_type": "code",
   "execution_count": null,
   "id": "5c42474e",
   "metadata": {},
   "outputs": [],
   "source": []
  }
 ],
 "metadata": {
  "kernelspec": {
   "display_name": "Python 3 (ipykernel)",
   "language": "python",
   "name": "python3"
  },
  "language_info": {
   "codemirror_mode": {
    "name": "ipython",
    "version": 3
   },
   "file_extension": ".py",
   "mimetype": "text/x-python",
   "name": "python",
   "nbconvert_exporter": "python",
   "pygments_lexer": "ipython3",
   "version": "3.9.7"
  }
 },
 "nbformat": 4,
 "nbformat_minor": 5
}
