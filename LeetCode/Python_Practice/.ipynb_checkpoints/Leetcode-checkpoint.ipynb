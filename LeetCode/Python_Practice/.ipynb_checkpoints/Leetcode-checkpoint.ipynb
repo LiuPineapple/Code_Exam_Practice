{
 "cells": [
  {
   "cell_type": "markdown",
   "id": "ab5f13c1",
   "metadata": {},
   "source": [
    "### 162. 寻找峰值"
   ]
  },
  {
   "cell_type": "code",
   "execution_count": 4,
   "id": "158af8d5",
   "metadata": {},
   "outputs": [],
   "source": [
    "class Solution:\n",
    "    def findPeakElement(self, nums):\n",
    "        le = len(nums)\n",
    "        if le==0:\n",
    "            return None\n",
    "        left = 0\n",
    "        right = len(nums)-1\n",
    "        while left<=right:\n",
    "            mid = (left+right)//2\n",
    "            l_val = nums[mid-1] if mid-1>=0 else float('-inf')\n",
    "            r_val = nums[mid+1] if mid+1<le else float('-inf')\n",
    "            if nums[mid]>l_val and nums[mid]>r_val:\n",
    "                return mid\n",
    "            elif nums[mid]>l_val:\n",
    "                left = mid+1\n",
    "            else:\n",
    "                right = mid-1\n",
    "        return None"
   ]
  },
  {
   "cell_type": "code",
   "execution_count": null,
   "id": "d877a95b",
   "metadata": {},
   "outputs": [],
   "source": []
  }
 ],
 "metadata": {
  "kernelspec": {
   "display_name": "Python 3 (ipykernel)",
   "language": "python",
   "name": "python3"
  },
  "language_info": {
   "codemirror_mode": {
    "name": "ipython",
    "version": 3
   },
   "file_extension": ".py",
   "mimetype": "text/x-python",
   "name": "python",
   "nbconvert_exporter": "python",
   "pygments_lexer": "ipython3",
   "version": "3.9.7"
  }
 },
 "nbformat": 4,
 "nbformat_minor": 5
}
